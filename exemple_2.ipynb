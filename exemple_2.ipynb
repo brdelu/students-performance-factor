{
 "cells": [
  {
   "cell_type": "markdown",
   "metadata": {},
   "source": [
    "# 03-Movie-Query"
   ]
  },
  {
   "cell_type": "markdown",
   "metadata": {},
   "source": [
    "![](https://images.unsplash.com/photo-1521967906867-14ec9d64bee8?ixlib=rb-1.2.1&ixid=eyJhcHBfaWQiOjEyMDd9&auto=format&fit=crop&w=1050&q=80)\n",
    "\n",
    "Photo by [JESHOOTS.COM](https://unsplash.com/photos/PpYOQgsZDM4)"
   ]
  },
  {
   "cell_type": "markdown",
   "metadata": {},
   "source": [
    "In this exercise, you will make a prototype of movie recommender based on a query.\n",
    "\n",
    "Basically, we want to type a word or a text, and to find the closest movies to this text query. In order to do so, we will use movie title but also movie overview."
   ]
  },
  {
   "cell_type": "markdown",
   "metadata": {},
   "source": [
    "Begin by importing usual libraries:"
   ]
  },
  {
   "cell_type": "code",
   "execution_count": 1,
   "metadata": {},
   "outputs": [
    {
     "name": "stdout",
     "output_type": "stream",
     "text": [
      "  % Total    % Received % Xferd  Average Speed   Time    Time     Time  Current\n",
      "                                 Dload  Upload   Total   Spent    Left  Speed\n",
      "100  305k  100  305k    0     0  1236k      0 --:--:-- --:--:-- --:--:-- 1236k\n",
      "\u001b[1;36m..\u001b[0m\n",
      "├── README.md\n",
      "├── \u001b[1;36mdata\u001b[0m\n",
      "│   └── movies_overviews.csv\n",
      "└── \u001b[1;36msrc\u001b[0m\n",
      "    ├── 03-Movie-Query.ipynb\n",
      "    └── movies_overviews.csv\n",
      "\n",
      "3 directories, 4 files\n"
     ]
    }
   ],
   "source": [
    "# Run this cell to retrieve challenge data\n",
    "! mkdir ../data \n",
    "! curl https://storage.googleapis.com/schoolofdata-datasets/NLP.Text-Similarity/movies_overviews.csv -o ../data/movies_overviews.csv\n",
    "! tree .."
   ]
  },
  {
   "cell_type": "code",
   "execution_count": 1,
   "metadata": {},
   "outputs": [],
   "source": [
    "# TODO: import needed libraries\n",
    "import pandas as pd\n",
    "import numpy as np"
   ]
  },
  {
   "cell_type": "markdown",
   "metadata": {},
   "source": [
    "Import the data into the file *movies_overview.csv*"
   ]
  },
  {
   "cell_type": "code",
   "execution_count": 2,
   "metadata": {},
   "outputs": [],
   "source": [
    "# TODO: Load the dataset movies_overview.csv\n",
    "movie_data = pd.read_csv('../data/movies_overviews.csv')"
   ]
  },
  {
   "cell_type": "code",
   "execution_count": 3,
   "metadata": {},
   "outputs": [
    {
     "data": {
      "text/html": [
       "<div>\n",
       "<style scoped>\n",
       "    .dataframe tbody tr th:only-of-type {\n",
       "        vertical-align: middle;\n",
       "    }\n",
       "\n",
       "    .dataframe tbody tr th {\n",
       "        vertical-align: top;\n",
       "    }\n",
       "\n",
       "    .dataframe thead th {\n",
       "        text-align: right;\n",
       "    }\n",
       "</style>\n",
       "<table border=\"1\" class=\"dataframe\">\n",
       "  <thead>\n",
       "    <tr style=\"text-align: right;\">\n",
       "      <th></th>\n",
       "      <th>original_title</th>\n",
       "      <th>overview</th>\n",
       "    </tr>\n",
       "  </thead>\n",
       "  <tbody>\n",
       "    <tr>\n",
       "      <th>0</th>\n",
       "      <td>Minions</td>\n",
       "      <td>Minions Stuart, Kevin and Bob are recruited by...</td>\n",
       "    </tr>\n",
       "    <tr>\n",
       "      <th>1</th>\n",
       "      <td>Wonder Woman</td>\n",
       "      <td>An Amazon princess comes to the world of Man t...</td>\n",
       "    </tr>\n",
       "    <tr>\n",
       "      <th>2</th>\n",
       "      <td>Beauty and the Beast</td>\n",
       "      <td>A live-action adaptation of Disney's version o...</td>\n",
       "    </tr>\n",
       "    <tr>\n",
       "      <th>3</th>\n",
       "      <td>Baby Driver</td>\n",
       "      <td>After being coerced into working for a crime b...</td>\n",
       "    </tr>\n",
       "    <tr>\n",
       "      <th>4</th>\n",
       "      <td>Big Hero 6</td>\n",
       "      <td>The special bond that develops between plus-si...</td>\n",
       "    </tr>\n",
       "    <tr>\n",
       "      <th>...</th>\n",
       "      <td>...</td>\n",
       "      <td>...</td>\n",
       "    </tr>\n",
       "    <tr>\n",
       "      <th>1008</th>\n",
       "      <td>LOL</td>\n",
       "      <td>In a world connected by YouTube, iTunes, and F...</td>\n",
       "    </tr>\n",
       "    <tr>\n",
       "      <th>1009</th>\n",
       "      <td>God Bless America</td>\n",
       "      <td>Fed up with the cruelty and stupidity of Ameri...</td>\n",
       "    </tr>\n",
       "    <tr>\n",
       "      <th>1010</th>\n",
       "      <td>The Dead Lands</td>\n",
       "      <td>Hongi, a Maori chieftain’s teenage son, must a...</td>\n",
       "    </tr>\n",
       "    <tr>\n",
       "      <th>1011</th>\n",
       "      <td>Scream 4</td>\n",
       "      <td>Sidney Prescott, now the author of a self-help...</td>\n",
       "    </tr>\n",
       "    <tr>\n",
       "      <th>1012</th>\n",
       "      <td>Nine Lives</td>\n",
       "      <td>A stuffy businessman finds himself trapped ins...</td>\n",
       "    </tr>\n",
       "  </tbody>\n",
       "</table>\n",
       "<p>1013 rows × 2 columns</p>\n",
       "</div>"
      ],
      "text/plain": [
       "            original_title                                           overview\n",
       "0                  Minions  Minions Stuart, Kevin and Bob are recruited by...\n",
       "1             Wonder Woman  An Amazon princess comes to the world of Man t...\n",
       "2     Beauty and the Beast  A live-action adaptation of Disney's version o...\n",
       "3              Baby Driver  After being coerced into working for a crime b...\n",
       "4               Big Hero 6  The special bond that develops between plus-si...\n",
       "...                    ...                                                ...\n",
       "1008                   LOL  In a world connected by YouTube, iTunes, and F...\n",
       "1009     God Bless America  Fed up with the cruelty and stupidity of Ameri...\n",
       "1010        The Dead Lands  Hongi, a Maori chieftain’s teenage son, must a...\n",
       "1011              Scream 4  Sidney Prescott, now the author of a self-help...\n",
       "1012            Nine Lives  A stuffy businessman finds himself trapped ins...\n",
       "\n",
       "[1013 rows x 2 columns]"
      ]
     },
     "execution_count": 3,
     "metadata": {},
     "output_type": "execute_result"
    }
   ],
   "source": [
    "movie_data"
   ]
  },
  {
   "cell_type": "code",
   "execution_count": 4,
   "metadata": {},
   "outputs": [
    {
     "name": "stdout",
     "output_type": "stream",
     "text": [
      "<class 'pandas.core.frame.DataFrame'>\n",
      "RangeIndex: 1013 entries, 0 to 1012\n",
      "Data columns (total 2 columns):\n",
      " #   Column          Non-Null Count  Dtype \n",
      "---  ------          --------------  ----- \n",
      " 0   original_title  1013 non-null   object\n",
      " 1   overview        1013 non-null   object\n",
      "dtypes: object(2)\n",
      "memory usage: 16.0+ KB\n"
     ]
    }
   ],
   "source": [
    "movie_data.info()"
   ]
  },
  {
   "cell_type": "markdown",
   "metadata": {},
   "source": [
    "Check what is in this file and how is the data."
   ]
  },
  {
   "cell_type": "code",
   "execution_count": 5,
   "metadata": {
    "scrolled": true
   },
   "outputs": [
    {
     "data": {
      "text/plain": [
       "original_title    0\n",
       "overview          0\n",
       "dtype: int64"
      ]
     },
     "execution_count": 5,
     "metadata": {},
     "output_type": "execute_result"
    }
   ],
   "source": [
    "# TODO: Check the dataset\n",
    "movie_data.isna().sum()"
   ]
  },
  {
   "cell_type": "code",
   "execution_count": 9,
   "metadata": {},
   "outputs": [],
   "source": [
    "f = lambda a,b : a+b"
   ]
  },
  {
   "cell_type": "code",
   "execution_count": 10,
   "metadata": {},
   "outputs": [
    {
     "data": {
      "text/plain": [
       "5"
      ]
     },
     "execution_count": 10,
     "metadata": {},
     "output_type": "execute_result"
    }
   ],
   "source": [
    "f(2,3)"
   ]
  },
  {
   "cell_type": "code",
   "execution_count": 11,
   "metadata": {},
   "outputs": [],
   "source": [
    "def f(a,b):\n",
    "    return a+b"
   ]
  },
  {
   "cell_type": "code",
   "execution_count": 12,
   "metadata": {},
   "outputs": [
    {
     "data": {
      "text/plain": [
       "5"
      ]
     },
     "execution_count": 12,
     "metadata": {},
     "output_type": "execute_result"
    }
   ],
   "source": [
    "f(2,3)"
   ]
  },
  {
   "cell_type": "code",
   "execution_count": 8,
   "metadata": {},
   "outputs": [
    {
     "data": {
      "text/plain": [
       "count    1013.000000\n",
       "mean       49.333662\n",
       "std        28.289498\n",
       "min         9.000000\n",
       "25%        27.000000\n",
       "50%        41.000000\n",
       "75%        66.000000\n",
       "max       169.000000\n",
       "Name: overview, dtype: float64"
      ]
     },
     "execution_count": 8,
     "metadata": {},
     "output_type": "execute_result"
    }
   ],
   "source": [
    "movie_data.overview.apply(lambda txt: len(txt.split())).describe()"
   ]
  },
  {
   "cell_type": "markdown",
   "metadata": {},
   "source": [
    "Concatenate the title and overview into another column."
   ]
  },
  {
   "cell_type": "code",
   "execution_count": 13,
   "metadata": {},
   "outputs": [
    {
     "data": {
      "text/plain": [
       "Index(['original_title', 'overview'], dtype='object')"
      ]
     },
     "execution_count": 13,
     "metadata": {},
     "output_type": "execute_result"
    }
   ],
   "source": [
    "movie_data.columns"
   ]
  },
  {
   "cell_type": "code",
   "execution_count": 14,
   "metadata": {},
   "outputs": [],
   "source": [
    "# TODO: Concatenate title and overview\n",
    "movie_data[\"all_info\"] = movie_data[\"original_title\"] + ' ' + movie_data[\"overview\"]"
   ]
  },
  {
   "cell_type": "code",
   "execution_count": 15,
   "metadata": {},
   "outputs": [
    {
     "data": {
      "text/html": [
       "<div>\n",
       "<style scoped>\n",
       "    .dataframe tbody tr th:only-of-type {\n",
       "        vertical-align: middle;\n",
       "    }\n",
       "\n",
       "    .dataframe tbody tr th {\n",
       "        vertical-align: top;\n",
       "    }\n",
       "\n",
       "    .dataframe thead th {\n",
       "        text-align: right;\n",
       "    }\n",
       "</style>\n",
       "<table border=\"1\" class=\"dataframe\">\n",
       "  <thead>\n",
       "    <tr style=\"text-align: right;\">\n",
       "      <th></th>\n",
       "      <th>original_title</th>\n",
       "      <th>overview</th>\n",
       "      <th>all_info</th>\n",
       "    </tr>\n",
       "  </thead>\n",
       "  <tbody>\n",
       "    <tr>\n",
       "      <th>0</th>\n",
       "      <td>Minions</td>\n",
       "      <td>Minions Stuart, Kevin and Bob are recruited by...</td>\n",
       "      <td>Minions Minions Stuart, Kevin and Bob are recr...</td>\n",
       "    </tr>\n",
       "    <tr>\n",
       "      <th>1</th>\n",
       "      <td>Wonder Woman</td>\n",
       "      <td>An Amazon princess comes to the world of Man t...</td>\n",
       "      <td>Wonder Woman An Amazon princess comes to the w...</td>\n",
       "    </tr>\n",
       "    <tr>\n",
       "      <th>2</th>\n",
       "      <td>Beauty and the Beast</td>\n",
       "      <td>A live-action adaptation of Disney's version o...</td>\n",
       "      <td>Beauty and the Beast A live-action adaptation ...</td>\n",
       "    </tr>\n",
       "    <tr>\n",
       "      <th>3</th>\n",
       "      <td>Baby Driver</td>\n",
       "      <td>After being coerced into working for a crime b...</td>\n",
       "      <td>Baby Driver After being coerced into working f...</td>\n",
       "    </tr>\n",
       "    <tr>\n",
       "      <th>4</th>\n",
       "      <td>Big Hero 6</td>\n",
       "      <td>The special bond that develops between plus-si...</td>\n",
       "      <td>Big Hero 6 The special bond that develops betw...</td>\n",
       "    </tr>\n",
       "    <tr>\n",
       "      <th>...</th>\n",
       "      <td>...</td>\n",
       "      <td>...</td>\n",
       "      <td>...</td>\n",
       "    </tr>\n",
       "    <tr>\n",
       "      <th>1008</th>\n",
       "      <td>LOL</td>\n",
       "      <td>In a world connected by YouTube, iTunes, and F...</td>\n",
       "      <td>LOL In a world connected by YouTube, iTunes, a...</td>\n",
       "    </tr>\n",
       "    <tr>\n",
       "      <th>1009</th>\n",
       "      <td>God Bless America</td>\n",
       "      <td>Fed up with the cruelty and stupidity of Ameri...</td>\n",
       "      <td>God Bless America Fed up with the cruelty and ...</td>\n",
       "    </tr>\n",
       "    <tr>\n",
       "      <th>1010</th>\n",
       "      <td>The Dead Lands</td>\n",
       "      <td>Hongi, a Maori chieftain’s teenage son, must a...</td>\n",
       "      <td>The Dead Lands Hongi, a Maori chieftain’s teen...</td>\n",
       "    </tr>\n",
       "    <tr>\n",
       "      <th>1011</th>\n",
       "      <td>Scream 4</td>\n",
       "      <td>Sidney Prescott, now the author of a self-help...</td>\n",
       "      <td>Scream 4 Sidney Prescott, now the author of a ...</td>\n",
       "    </tr>\n",
       "    <tr>\n",
       "      <th>1012</th>\n",
       "      <td>Nine Lives</td>\n",
       "      <td>A stuffy businessman finds himself trapped ins...</td>\n",
       "      <td>Nine Lives A stuffy businessman finds himself ...</td>\n",
       "    </tr>\n",
       "  </tbody>\n",
       "</table>\n",
       "<p>1013 rows × 3 columns</p>\n",
       "</div>"
      ],
      "text/plain": [
       "            original_title                                           overview  \\\n",
       "0                  Minions  Minions Stuart, Kevin and Bob are recruited by...   \n",
       "1             Wonder Woman  An Amazon princess comes to the world of Man t...   \n",
       "2     Beauty and the Beast  A live-action adaptation of Disney's version o...   \n",
       "3              Baby Driver  After being coerced into working for a crime b...   \n",
       "4               Big Hero 6  The special bond that develops between plus-si...   \n",
       "...                    ...                                                ...   \n",
       "1008                   LOL  In a world connected by YouTube, iTunes, and F...   \n",
       "1009     God Bless America  Fed up with the cruelty and stupidity of Ameri...   \n",
       "1010        The Dead Lands  Hongi, a Maori chieftain’s teenage son, must a...   \n",
       "1011              Scream 4  Sidney Prescott, now the author of a self-help...   \n",
       "1012            Nine Lives  A stuffy businessman finds himself trapped ins...   \n",
       "\n",
       "                                               all_info  \n",
       "0     Minions Minions Stuart, Kevin and Bob are recr...  \n",
       "1     Wonder Woman An Amazon princess comes to the w...  \n",
       "2     Beauty and the Beast A live-action adaptation ...  \n",
       "3     Baby Driver After being coerced into working f...  \n",
       "4     Big Hero 6 The special bond that develops betw...  \n",
       "...                                                 ...  \n",
       "1008  LOL In a world connected by YouTube, iTunes, a...  \n",
       "1009  God Bless America Fed up with the cruelty and ...  \n",
       "1010  The Dead Lands Hongi, a Maori chieftain’s teen...  \n",
       "1011  Scream 4 Sidney Prescott, now the author of a ...  \n",
       "1012  Nine Lives A stuffy businessman finds himself ...  \n",
       "\n",
       "[1013 rows x 3 columns]"
      ]
     },
     "execution_count": 15,
     "metadata": {},
     "output_type": "execute_result"
    }
   ],
   "source": [
    "movie_data"
   ]
  },
  {
   "cell_type": "markdown",
   "metadata": {},
   "source": [
    "Compute both the BOW and the TF-IDF of this new column using scikit learn."
   ]
  },
  {
   "cell_type": "code",
   "execution_count": 16,
   "metadata": {},
   "outputs": [],
   "source": [
    "# TODO: compute the BOW and TF-IDF\n",
    "from sklearn.feature_extraction.text import TfidfVectorizer, CountVectorizer\n",
    "\n",
    "count_vectorizer = CountVectorizer()\n",
    "bow_repr = count_vectorizer.fit_transform(movie_data.all_info)\n",
    "\n",
    "tfid_vectorizer = TfidfVectorizer()\n",
    "tfid_repr = tfid_vectorizer.fit_transform(movie_data.all_info)\n"
   ]
  },
  {
   "cell_type": "markdown",
   "metadata": {},
   "source": [
    "What are the dimensions of the TF-IDF and the BOW? Print them out and explain them."
   ]
  },
  {
   "cell_type": "code",
   "execution_count": 17,
   "metadata": {},
   "outputs": [
    {
     "data": {
      "text/plain": [
       "((1013, 8909), (1013, 8909))"
      ]
     },
     "execution_count": 17,
     "metadata": {},
     "output_type": "execute_result"
    }
   ],
   "source": [
    "# TODO: print the shapes of TF-IDF and BOW\n",
    "bow_repr.shape , tfid_repr.shape"
   ]
  },
  {
   "cell_type": "code",
   "execution_count": 20,
   "metadata": {},
   "outputs": [
    {
     "data": {
      "text/plain": [
       "array([[0, 0, 0, ..., 0, 0, 0],\n",
       "       [0, 0, 0, ..., 0, 0, 0],\n",
       "       [0, 0, 0, ..., 0, 0, 0],\n",
       "       ...,\n",
       "       [0, 0, 0, ..., 0, 0, 0],\n",
       "       [0, 0, 0, ..., 0, 0, 0],\n",
       "       [0, 0, 0, ..., 0, 0, 0]])"
      ]
     },
     "execution_count": 20,
     "metadata": {},
     "output_type": "execute_result"
    }
   ],
   "source": [
    "bow_repr.toarray()"
   ]
  },
  {
   "cell_type": "markdown",
   "metadata": {},
   "source": [
    "Now we want to define a function that takes as input a text query and prints the 10 most similar movies according to the BOW.\n",
    "\n",
    "To do that, the function should make the following steps:\n",
    "* Compute the BOW of the input text query\n",
    "* Compute cosine similarity between the query and the movies\n",
    "* Print the 10 most similar movies\n",
    "\n",
    "The function will have the following signature:\n",
    "\n",
    "`get_BOW_similar(query, movies_df, BOW, BOW_vectorizer)`"
   ]
  },
  {
   "cell_type": "code",
   "execution_count": 44,
   "metadata": {},
   "outputs": [],
   "source": [
    "# TODO: implement the function get_BOW_similar\n",
    "from sklearn.metrics.pairwise import cosine_similarity\n",
    "\n",
    "def get_BOW_similar(query, movies_df, BOW, BOW_vectorizer):\n",
    "    query_bow = BOW_vectorizer.transform([query])\n",
    "    similarities = cosine_similarity(query_bow, BOW)\n",
    "    top_10_indexes = (-1*similarities).argsort()[0][:10]\n",
    "    print(similarities[0, top_10_indexes])\n",
    "    return movies_df['original_title'].loc[top_10_indexes]\n",
    "    "
   ]
  },
  {
   "cell_type": "code",
   "execution_count": 47,
   "metadata": {},
   "outputs": [
    {
     "name": "stdout",
     "output_type": "stream",
     "text": [
      "[0.6148789  0.58343849 0.58333333 0.56888012 0.55603844 0.54433105\n",
      " 0.53066863 0.51965584 0.51832106 0.51639778]\n"
     ]
    },
    {
     "data": {
      "text/plain": [
       "559                             The Normal Heart\n",
       "203                  Snow White and the Huntsman\n",
       "29                                The Dark Tower\n",
       "359                       The Cabin in the Woods\n",
       "102    The Twilight Saga: Breaking Dawn - Part 2\n",
       "256                     Smurfs: The Lost Village\n",
       "755                                Hail, Caesar!\n",
       "43                 Transformers: The Last Knight\n",
       "915                           Summer in February\n",
       "901                                  Any Day Now\n",
       "Name: original_title, dtype: object"
      ]
     },
     "execution_count": 47,
     "metadata": {},
     "output_type": "execute_result"
    }
   ],
   "source": [
    "get_BOW_similar('walking in the forest', movie_data, bow_repr, count_vectorizer)"
   ]
  },
  {
   "cell_type": "code",
   "execution_count": 48,
   "metadata": {},
   "outputs": [
    {
     "data": {
      "text/plain": [
       "\"In the futuristic action thriller Looper, time travel will be invented but it will be illegal and only available on the black market. When the mob wants to get rid of someone, they will send their target 30 years into the past where a looper, a hired gun, like Joe is waiting to mop up. Joe is getting rich and life is good until the day the mob decides to close the loop, sending back Joe's future self for assassination.\""
      ]
     },
     "execution_count": 48,
     "metadata": {},
     "output_type": "execute_result"
    }
   ],
   "source": [
    "movie_data.iloc[551, 1]"
   ]
  },
  {
   "cell_type": "markdown",
   "metadata": {},
   "source": [
    "Now try to use that function with several queries, check how it works:"
   ]
  },
  {
   "cell_type": "code",
   "execution_count": 47,
   "metadata": {},
   "outputs": [],
   "source": [
    "# TODO: test yout get_BOW_similar\n"
   ]
  },
  {
   "cell_type": "markdown",
   "metadata": {},
   "source": [
    "Now let's do the same function with TF-IDF to see if it works better:\n",
    "\n",
    "`get_TFIDF_similar(query, movies_df, TFIDF, TFIDF_vectorizer)`\n",
    "\n",
    "Then test it on some queries."
   ]
  },
  {
   "cell_type": "code",
   "execution_count": 56,
   "metadata": {},
   "outputs": [],
   "source": [
    "# TODO: implement the function get_TFIDF_similar\n",
    "def get_tfidf_similar(query, movies_df, TFIDF, tfidf_vectorizer):\n",
    "    query_tfidf = tfidf_vectorizer.transform([query])\n",
    "    similarities = cosine_similarity(query_tfidf, TFIDF)\n",
    "    top_10_indexes = (-1*similarities).argsort()[0][:10]\n",
    "    print(similarities[0, top_10_indexes])\n",
    "    return movies_df['original_title'].loc[top_10_indexes]"
   ]
  },
  {
   "cell_type": "code",
   "execution_count": 64,
   "metadata": {
    "scrolled": false
   },
   "outputs": [
    {
     "name": "stdout",
     "output_type": "stream",
     "text": [
      "[0.17856384 0.1491261  0.0977551  0.08978029 0.07447396 0.\n",
      " 0.         0.         0.         0.        ]\n"
     ]
    },
    {
     "data": {
      "text/plain": [
       "433                              Kindergarten Cop 2\n",
       "466    Science Fiction Volume One: The Osiris Child\n",
       "438                                             Her\n",
       "576                       The Sorcerer's Apprentice\n",
       "706                                      Red Lights\n",
       "0                                           Minions\n",
       "677                            Hotel Transylvania 2\n",
       "676                             I Am Not Your Negro\n",
       "675                                I Give It a Year\n",
       "674                       To Write Love on Her Arms\n",
       "Name: original_title, dtype: object"
      ]
     },
     "execution_count": 64,
     "metadata": {},
     "output_type": "execute_result"
    }
   ],
   "source": [
    "get_tfidf_similar('data science', movie_data, tfid_repr, tfid_vectorizer)"
   ]
  },
  {
   "cell_type": "code",
   "execution_count": 66,
   "metadata": {},
   "outputs": [
    {
     "data": {
      "text/plain": [
       "\"Balthazar Blake is a master sorcerer in modern-day Manhattan trying to defend the city from his arch-nemesis, Maxim Horvath. Balthazar can't do it alone, so he recruits Dave Stutler, a seemingly average guy who demonstrates hidden potential, as his reluctant protégé. The sorcerer gives his unwilling accomplice a crash course in the art and science of magic, and together, these unlikely partners work to stop the forces of darkness.\""
      ]
     },
     "execution_count": 66,
     "metadata": {},
     "output_type": "execute_result"
    }
   ],
   "source": [
    "movie_data.iloc[576, 1]"
   ]
  },
  {
   "cell_type": "code",
   "execution_count": 67,
   "metadata": {},
   "outputs": [],
   "source": [
    "from nltk.tokenize import word_tokenize"
   ]
  },
  {
   "cell_type": "code",
   "execution_count": 68,
   "metadata": {},
   "outputs": [
    {
     "data": {
      "text/plain": [
       "['Balthazar',\n",
       " 'Blake',\n",
       " 'is',\n",
       " 'a',\n",
       " 'master',\n",
       " 'sorcerer',\n",
       " 'in',\n",
       " 'modern-day',\n",
       " 'Manhattan',\n",
       " 'trying',\n",
       " 'to',\n",
       " 'defend',\n",
       " 'the',\n",
       " 'city',\n",
       " 'from',\n",
       " 'his',\n",
       " 'arch-nemesis,',\n",
       " 'Maxim',\n",
       " 'Horvath.',\n",
       " 'Balthazar',\n",
       " \"can't\",\n",
       " 'do',\n",
       " 'it',\n",
       " 'alone,',\n",
       " 'so',\n",
       " 'he',\n",
       " 'recruits',\n",
       " 'Dave',\n",
       " 'Stutler,',\n",
       " 'a',\n",
       " 'seemingly',\n",
       " 'average',\n",
       " 'guy',\n",
       " 'who',\n",
       " 'demonstrates',\n",
       " 'hidden',\n",
       " 'potential,',\n",
       " 'as',\n",
       " 'his',\n",
       " 'reluctant',\n",
       " 'protégé.',\n",
       " 'The',\n",
       " 'sorcerer',\n",
       " 'gives',\n",
       " 'his',\n",
       " 'unwilling',\n",
       " 'accomplice',\n",
       " 'a',\n",
       " 'crash',\n",
       " 'course',\n",
       " 'in',\n",
       " 'the',\n",
       " 'art',\n",
       " 'and',\n",
       " 'science',\n",
       " 'of',\n",
       " 'magic,',\n",
       " 'and',\n",
       " 'together,',\n",
       " 'these',\n",
       " 'unlikely',\n",
       " 'partners',\n",
       " 'work',\n",
       " 'to',\n",
       " 'stop',\n",
       " 'the',\n",
       " 'forces',\n",
       " 'of',\n",
       " 'darkness.']"
      ]
     },
     "execution_count": 68,
     "metadata": {},
     "output_type": "execute_result"
    }
   ],
   "source": [
    "movie_data.iloc[576, 1].split()"
   ]
  },
  {
   "cell_type": "code",
   "execution_count": 73,
   "metadata": {},
   "outputs": [
    {
     "data": {
      "text/plain": [
       "False"
      ]
     },
     "execution_count": 73,
     "metadata": {},
     "output_type": "execute_result"
    }
   ],
   "source": [
    "'darkness.'.isalpha()"
   ]
  },
  {
   "cell_type": "code",
   "execution_count": 69,
   "metadata": {},
   "outputs": [
    {
     "data": {
      "text/plain": [
       "['Balthazar',\n",
       " 'Blake',\n",
       " 'is',\n",
       " 'a',\n",
       " 'master',\n",
       " 'sorcerer',\n",
       " 'in',\n",
       " 'modern-day',\n",
       " 'Manhattan',\n",
       " 'trying',\n",
       " 'to',\n",
       " 'defend',\n",
       " 'the',\n",
       " 'city',\n",
       " 'from',\n",
       " 'his',\n",
       " 'arch-nemesis',\n",
       " ',',\n",
       " 'Maxim',\n",
       " 'Horvath',\n",
       " '.',\n",
       " 'Balthazar',\n",
       " 'ca',\n",
       " \"n't\",\n",
       " 'do',\n",
       " 'it',\n",
       " 'alone',\n",
       " ',',\n",
       " 'so',\n",
       " 'he',\n",
       " 'recruits',\n",
       " 'Dave',\n",
       " 'Stutler',\n",
       " ',',\n",
       " 'a',\n",
       " 'seemingly',\n",
       " 'average',\n",
       " 'guy',\n",
       " 'who',\n",
       " 'demonstrates',\n",
       " 'hidden',\n",
       " 'potential',\n",
       " ',',\n",
       " 'as',\n",
       " 'his',\n",
       " 'reluctant',\n",
       " 'protégé',\n",
       " '.',\n",
       " 'The',\n",
       " 'sorcerer',\n",
       " 'gives',\n",
       " 'his',\n",
       " 'unwilling',\n",
       " 'accomplice',\n",
       " 'a',\n",
       " 'crash',\n",
       " 'course',\n",
       " 'in',\n",
       " 'the',\n",
       " 'art',\n",
       " 'and',\n",
       " 'science',\n",
       " 'of',\n",
       " 'magic',\n",
       " ',',\n",
       " 'and',\n",
       " 'together',\n",
       " ',',\n",
       " 'these',\n",
       " 'unlikely',\n",
       " 'partners',\n",
       " 'work',\n",
       " 'to',\n",
       " 'stop',\n",
       " 'the',\n",
       " 'forces',\n",
       " 'of',\n",
       " 'darkness',\n",
       " '.']"
      ]
     },
     "execution_count": 69,
     "metadata": {},
     "output_type": "execute_result"
    }
   ],
   "source": [
    "word_tokenize(movie_data.iloc[576, 1])"
   ]
  },
  {
   "cell_type": "markdown",
   "metadata": {},
   "source": [
    "What can you do now to improve your function?\n",
    "\n",
    "If you have time, you can add preprocessing on your query, and before the TF-IDF/BOW, this would probably improve the performances."
   ]
  },
  {
   "cell_type": "markdown",
   "metadata": {},
   "source": []
  }
 ],
 "metadata": {
  "kernelspec": {
   "display_name": "Python 3 (ipykernel)",
   "language": "python",
   "name": "python3"
  },
  "language_info": {
   "codemirror_mode": {
    "name": "ipython",
    "version": 3
   },
   "file_extension": ".py",
   "mimetype": "text/x-python",
   "name": "python",
   "nbconvert_exporter": "python",
   "pygments_lexer": "ipython3",
   "version": "3.10.12"
  },
  "toc": {
   "base_numbering": 1,
   "nav_menu": {},
   "number_sections": true,
   "sideBar": true,
   "skip_h1_title": false,
   "title_cell": "Table of Contents",
   "title_sidebar": "Contents",
   "toc_cell": false,
   "toc_position": {},
   "toc_section_display": true,
   "toc_window_display": false
  }
 },
 "nbformat": 4,
 "nbformat_minor": 2
}
